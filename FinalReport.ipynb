{
 "cells": [
  {
   "cell_type": "markdown",
   "source": [
    "# 深度学习课程设计 图像描述生成 结题报告 \n"
   ],
   "metadata": {
    "collapsed": false
   },
   "id": "a36f4f5f98c2827a"
  },
  {
   "cell_type": "markdown",
   "source": [
    "## 准备工作:环境配置\n",
    "\n",
    "- 运行系统版本：\n",
    "Kylin Linux Advanced Server / WSL2 Ubuntu 22.04.1 \n",
    "- python版本\n",
    "python3.7.16\n",
    "- 框架版本\n",
    "torch==1.10.2\n",
    "torchvision==0.11.3\n",
    "- openjdk版本\n",
    "openjdk version \"1.8.0_392\"\n",
    "\n",
    "下载java1.8 用于评估指标\n"
   ],
   "metadata": {
    "collapsed": false
   },
   "id": "3e10470468c6b679"
  },
  {
   "cell_type": "code",
   "execution_count": null,
   "outputs": [],
   "source": [
    "%%bash\n",
    "# 根据系统选择\n",
    "yum -y list java*\n",
    "apt-cache search openjdk"
   ],
   "metadata": {
    "collapsed": false
   },
   "id": "b959f9edb434796f"
  },
  {
   "cell_type": "code",
   "execution_count": null,
   "outputs": [],
   "source": [
    "%%bash\n",
    "conda create -n nndlexp python=3.7.16\n",
    "pip install -r requirments.txt\n",
    "pip install -r nnlgeval/requirments.txt"
   ],
   "metadata": {
    "collapsed": false
   },
   "id": "84a73d43fcbc68c"
  },
  {
   "cell_type": "code",
   "execution_count": null,
   "outputs": [],
   "source": [
    "%%bash\n",
    "# 评估资源下载\n",
    "python3 nlgeval/resource_download.py"
   ],
   "metadata": {
    "collapsed": false
   },
   "id": "718174e58d1d08c1"
  },
  {
   "cell_type": "code",
   "execution_count": null,
   "outputs": [],
   "source": [
    "# nltk语料库下载\n",
    "import nltk\n",
    "\n",
    "nltk.download('punkt')"
   ],
   "metadata": {
    "collapsed": false
   },
   "id": "ed566208663774fd"
  },
  {
   "cell_type": "markdown",
   "source": [
    "## 实验： \n",
    "\n",
    "- 我们使用了老师提供的deepfashion-mini数据集，\n",
    "    - 训练集包含10155条图像和对应的文本\n",
    "    - 测试集包含2538条图像和对应的文本\n",
    "- 实现了以下模型结构\n",
    "    - CNN网格表示+GRU\n",
    "    - CNN网格表示+Transformer\n",
    "- 实现了以下评测标准\n",
    "    - BLEU\n",
    "    - METEOR\n",
    "    - ROUGE\n",
    "    - CIDEr\n",
    "    - SPICE\n",
    "\n",
    "### 读取配置\n",
    "\n",
    "[代码实现](utils/config.py)\n",
    "\n",
    "我们实现了一个配置类用于存储所有的超参数以及模型配置\n",
    "```json\n",
    "{\n",
    "    \"use_model_type\": \"CNN_Transformer\",\n",
    "    \"num_epoch\": 4,\n",
    "    \"batch_size\": 64,\n",
    "    \"eval_batch_size\": 64,\n",
    "    \"encoder_lr\": 2e-4,\n",
    "    \"decoder_lr\": 5e-4,\n",
    "    \"beam_k\": 5,\n",
    "    \"CNN_GRU\": {\n",
    "        \"img_dim\": 2048,\n",
    "        \"cap_dim\": 512,\n",
    "        \"hidden_size\": 512,\n",
    "        \"num_layers\": 1\n",
    "    },\n",
    "    \"CNN_Transformer\": {\n",
    "        \"embed_size\": 32,\n",
    "        \"num_head\": 8,\n",
    "        \"dim_ff\": 512,\n",
    "        \"num_encoder\": 6,\n",
    "        \"num_decoder\": 6\n",
    "    },\n",
    "    \"vocab_size\": 109,\n",
    "    \"max_len\": 25,\n",
    "    \"dataset_path\": \"data/deepfashion-mini\",\n",
    "    \"vocab_path\": \"data/deepfashion-mini/vocab.json\",\n",
    "    \"model_checkpoint_path\": \"checkpoints/12-25_23-08CNN_Transformer/model_checkpoint2.pth\",\n",
    "    \"saved_device_type\": null\n",
    "}\n",
    "```"
   ],
   "metadata": {
    "collapsed": false
   },
   "id": "618c46652bf3b280"
  },
  {
   "cell_type": "code",
   "execution_count": null,
   "outputs": [],
   "source": [
    "from utils.config import Config\n",
    "\n",
    "config = Config()\n",
    "config.read_config('config.json')  # 读取参数，打印参数"
   ],
   "metadata": {
    "collapsed": false
   },
   "id": "db7e283b6206ee5a"
  },
  {
   "cell_type": "markdown",
   "source": [
    "### 数据预处理\n",
    "\n",
    "[代码实现](utils/data_loader.py)"
   ],
   "metadata": {
    "collapsed": false
   },
   "id": "b4293fefdfa8799"
  },
  {
   "cell_type": "code",
   "execution_count": null,
   "outputs": [],
   "source": [
    "from utils.data_loader import get_dataloader, data_preprocess\n",
    "\n",
    "# 数据加载\n",
    "data_preprocess(config.dataset_path)  # 只需要运行一次\n",
    "train_loader, test_loader, eval_loader = get_dataloader(config.dataset_path,\n",
    "                                                        config.batch_size,\n",
    "                                                        config.eval_batch_size,\n",
    "                                                        workers=0)\n"
   ],
   "metadata": {
    "collapsed": false,
    "ExecuteTime": {
     "end_time": "2023-12-12T15:46:39.760941100Z",
     "start_time": "2023-12-12T15:46:39.714282500Z"
    }
   },
   "id": "7ddce5710206a376"
  },
  {
   "cell_type": "markdown",
   "source": [
    "### 模型训练\n",
    "\n",
    "[代码实现](utils/trainer.py)\n",
    "\n",
    "模型的训练可以作为"
   ],
   "metadata": {
    "collapsed": false
   },
   "id": "536e9e24780f6e48"
  },
  {
   "cell_type": "code",
   "execution_count": null,
   "outputs": [],
   "source": [
    "import torch \n",
    "from utils.trainer import train, evaluate, evaluation\n",
    "\n",
    "device = torch.device(\"cuda\" if torch.cuda.is_available() else \"cpu\")\n",
    "\n",
    "# 训练函数，epoch batchsize等都在config.json定义\n",
    "train(train_loader, test_loader, config)"
   ],
   "metadata": {
    "collapsed": false
   },
   "id": "1cb372b9493d7723"
  },
  {
   "cell_type": "markdown",
   "source": [],
   "metadata": {
    "collapsed": false
   },
   "id": "780b02b40af8c8"
  },
  {
   "cell_type": "code",
   "execution_count": null,
   "outputs": [],
   "source": [],
   "metadata": {
    "collapsed": false
   },
   "id": "51b2e81bc7f67b00"
  }
 ],
 "metadata": {
  "kernelspec": {
   "display_name": "Python 3",
   "language": "python",
   "name": "python3"
  },
  "language_info": {
   "codemirror_mode": {
    "name": "ipython",
    "version": 2
   },
   "file_extension": ".py",
   "mimetype": "text/x-python",
   "name": "python",
   "nbconvert_exporter": "python",
   "pygments_lexer": "ipython2",
   "version": "2.7.6"
  }
 },
 "nbformat": 4,
 "nbformat_minor": 5
}
