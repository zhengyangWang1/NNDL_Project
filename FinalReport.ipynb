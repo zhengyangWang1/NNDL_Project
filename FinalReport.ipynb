{
 "cells": [
  {
   "cell_type": "markdown",
   "source": [
    "# 结题报告\n"
   ],
   "metadata": {
    "collapsed": false
   },
   "id": "a36f4f5f98c2827a"
  },
  {
   "cell_type": "code",
   "execution_count": null,
   "outputs": [],
   "source": [],
   "metadata": {
    "collapsed": false
   },
   "id": "7ddce5710206a376"
  }
 ],
 "metadata": {
  "kernelspec": {
   "display_name": "Python 3",
   "language": "python",
   "name": "python3"
  },
  "language_info": {
   "codemirror_mode": {
    "name": "ipython",
    "version": 2
   },
   "file_extension": ".py",
   "mimetype": "text/x-python",
   "name": "python",
   "nbconvert_exporter": "python",
   "pygments_lexer": "ipython2",
   "version": "2.7.6"
  }
 },
 "nbformat": 4,
 "nbformat_minor": 5
}
